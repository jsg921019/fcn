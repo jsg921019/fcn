{
 "cells": [
  {
   "cell_type": "code",
   "execution_count": 41,
   "id": "3e242b76-d6d1-46bd-a674-451886cf4b28",
   "metadata": {},
   "outputs": [],
   "source": [
    "import torch\n",
    "import torch.nn as nn\n",
    "import torchvision\n",
    "\n",
    "import albumentations as A\n",
    "from albumentations.pytorch import ToTensorV2\n",
    "\n",
    "from dataset import SBDDataset"
   ]
  },
  {
   "cell_type": "code",
   "execution_count": 42,
   "id": "76d47713-29de-4632-b871-81ed34397d71",
   "metadata": {},
   "outputs": [],
   "source": [
    "transform = A.Compose([A.Normalize(), ToTensorV2()])\n",
    "\n",
    "trainset = SBDDataset('~/data/datasets/VOC/benchmark_RELEASE/dataset/', 'train', transform)\n",
    "testset = SBDDataset('~/data/datasets/VOC/benchmark_RELEASE/dataset/', 'val', transform)"
   ]
  },
  {
   "cell_type": "code",
   "execution_count": 43,
   "id": "d5b8305e-47f1-465b-bdbe-fba51b6c7bd3",
   "metadata": {},
   "outputs": [],
   "source": [
    "from torch.utils.data import DataLoader\n",
    "\n",
    "bs = 1\n",
    "\n",
    "trainloader = DataLoader(trainset, batch_size=bs, shuffle=True, num_workers=2, pin_memory=True)\n",
    "testloader = DataLoader(testset, batch_size=bs, shuffle=False, num_workers=2, pin_memory=True)"
   ]
  },
  {
   "cell_type": "code",
   "execution_count": 44,
   "id": "4fee196b-72a5-48c0-b63a-460b9f0d358b",
   "metadata": {},
   "outputs": [],
   "source": [
    "class FCN32(nn.Module):\n",
    "    \n",
    "    def __init__(self, num_classes):\n",
    "        \n",
    "        super(FCN32, self).__init__()\n",
    "\n",
    "        self.features = nn.Sequential(\n",
    "            nn.Conv2d(3, 64, kernel_size=3, stride=1, padding=17),\n",
    "            nn.ReLU(inplace=True),\n",
    "            nn.Conv2d(64, 64, kernel_size=3, stride=1, padding=1),\n",
    "            nn.ReLU(inplace=True),\n",
    "            nn.MaxPool2d(kernel_size=2, stride=2),\n",
    "            nn.Conv2d(64, 128, kernel_size=3, stride=1, padding=1),\n",
    "            nn.ReLU(inplace=True),\n",
    "            nn.Conv2d(128, 128, kernel_size=3, stride=1, padding=1),\n",
    "            nn.ReLU(inplace=True),\n",
    "            nn.MaxPool2d(kernel_size=2, stride=2),\n",
    "            nn.Conv2d(128, 256, kernel_size=3, stride=1, padding=1),\n",
    "            nn.ReLU(inplace=True),\n",
    "            nn.Conv2d(256, 256, kernel_size=3, stride=1, padding=1),\n",
    "            nn.ReLU(inplace=True),\n",
    "            nn.Conv2d(256, 256, kernel_size=3, stride=1, padding=1),\n",
    "            nn.ReLU(inplace=True),\n",
    "            nn.MaxPool2d(kernel_size=2, stride=2),\n",
    "            nn.Conv2d(256, 512, kernel_size=3, stride=1, padding=1),\n",
    "            nn.ReLU(inplace=True),\n",
    "            nn.Conv2d(512, 512, kernel_size=3, stride=1, padding=1),\n",
    "            nn.ReLU(inplace=True),\n",
    "            nn.Conv2d(512, 512, kernel_size=3, stride=1, padding=1),\n",
    "            nn.ReLU(inplace=True),\n",
    "            nn.MaxPool2d(kernel_size=2, stride=2),\n",
    "            nn.Conv2d(512, 512, kernel_size=3, stride=1, padding=1),\n",
    "            nn.ReLU(inplace=True),\n",
    "            nn.Conv2d(512, 512, kernel_size=3, stride=1, padding=1),\n",
    "            nn.ReLU(inplace=True),\n",
    "            nn.Conv2d(512, 512, kernel_size=3, stride=1, padding=1),\n",
    "            nn.ReLU(inplace=True),\n",
    "            nn.MaxPool2d(kernel_size=2, stride=2)\n",
    "        )\n",
    "        \n",
    "        self.classifier = nn.Sequential(\n",
    "            nn.Conv2d(512, 4096, kernel_size=7, padding=3),\n",
    "            nn.ReLU(inplace=True),\n",
    "            nn.Dropout(p=0.5),\n",
    "            nn.Conv2d(4096, 4096, kernel_size=1),\n",
    "            nn.ReLU(inplace=True),\n",
    "            nn.Dropout(p=0.5),\n",
    "            nn.Conv2d(4096, num_classes, kernel_size=1)\n",
    "        )\n",
    "\n",
    "        self.upscore = nn.Upsample(mode='bilinear', scale_factor=32)\n",
    "\n",
    "    def forward(self, x):\n",
    "        out = self.features(x)\n",
    "        out = self.classifier(out)\n",
    "        out = self.upscore(out)\n",
    "        offset_h = (out.size(-2) - x.size(-2)) // 2\n",
    "        offset_w = (out.size(-1) - x.size(-1)) // 2\n",
    "        out = out[:,:,offset_h:offset_h+x.size(-2), offset_w:offset_w+x.size(-1)]\n",
    "        return out\n"
   ]
  },
  {
   "cell_type": "code",
   "execution_count": 45,
   "id": "7ea38086-fbe8-4c54-8240-c8306d6a2a7b",
   "metadata": {},
   "outputs": [],
   "source": [
    "net = FCN32(21)"
   ]
  },
  {
   "cell_type": "code",
   "execution_count": 46,
   "id": "4087e631-fcc3-40eb-83dc-3dd464c7ad9b",
   "metadata": {},
   "outputs": [],
   "source": [
    "optimizer = torch.optim.SGD(net.parameters(), lr=1e-10, momentum=0.99)"
   ]
  },
  {
   "cell_type": "code",
   "execution_count": 47,
   "id": "a6dee589-2d08-47ad-aafc-bb03e4a3faf0",
   "metadata": {},
   "outputs": [],
   "source": [
    "criterion = nn.CrossEntropyLoss(reduction='sum')"
   ]
  },
  {
   "cell_type": "code",
   "execution_count": 49,
   "id": "a3a7b285-d696-4749-b289-d9d8d33b6ff8",
   "metadata": {},
   "outputs": [],
   "source": [
    "from tqdm import tqdm\n",
    "import torchfcn\n",
    "import numpy as np\n",
    "\n",
    "class Trainer():\n",
    "\n",
    "    def train(self, model, optimizer, criterion, train_loader, val_loader, max_epoch):\n",
    "\n",
    "        device = next(iter(model.parameters())).device\n",
    "        best_mean_iu = 0\n",
    "        n_class = 21\n",
    "\n",
    "        for epoch in range(1, max_epoch+1):\n",
    "\n",
    "            # train mode\n",
    "            \n",
    "            model.train()\n",
    "            train_loss = 0\n",
    "            train_acc = 0\n",
    "            running_cnt = 0\n",
    "    \n",
    "            for batch_idx, (data, target) in tqdm(enumerate(train_loader), total=len(train_loader)):\n",
    "\n",
    "                data, target = data.to(device), target.to(device)\n",
    "                optimizer.zero_grad()\n",
    "\n",
    "                score = model(data)\n",
    "                loss = criterion(score, target.squeeze(1).type(torch.LongTensor))\n",
    "                loss\n",
    "                loss_data = loss.data.item()\n",
    "                if np.isnan(loss_data):\n",
    "                    raise ValueError('loss is nan while training')\n",
    "                    \n",
    "                train_loss += loss_data/ len(data)\n",
    "\n",
    "                loss.backward()\n",
    "                optimizer.step()\n",
    "\n",
    "#                 metrics = []\n",
    "                lbl_pred = score.argmax(dim=1)\n",
    "                lbl_true = target\n",
    "                train_acc += (lbl_pred == lbl_true).sum()\n",
    "                running_cnt += data.size(-1) * data.size(-2)\n",
    "                \n",
    "#                 acc, acc_cls, mean_iu, fwavacc = torchfcn.utils.label_accuracy_score(lbl_true, lbl_pred, n_class=n_class)\n",
    "#                 metrics.append((acc, acc_cls, mean_iu, fwavacc))\n",
    "#                 metrics = np.mean(metrics, axis=0)\n",
    "            \n",
    "            train_loss /= len(train_loader)\n",
    "            train_acc /= running_cnt\n",
    "            print('train', train_loss, rain_acc )\n",
    "            \n",
    "            # validate mode\n",
    "            \n",
    "            self.model.eval()\n",
    "\n",
    "            val_loss = 0\n",
    "            label_trues, label_preds = [], []\n",
    "            val_correct = 0\n",
    "            running_cnt = 0\n",
    "\n",
    "            for batch_idx, (data, target) in tqdm(enumerate(self.val_loader), total=len(self.val_loader)):\n",
    "                data, target = data.to(device), target.to(device)\n",
    "                with torch.no_grad():\n",
    "                    score = self.model(data)\n",
    "\n",
    "                loss = criterion(score, target.squeeze(1).type(torch.LongTensor))\n",
    "                loss_data = loss.data.item()\n",
    "                \n",
    "                if np.isnan(loss_data):\n",
    "                    raise ValueError('loss is nan while validating')\n",
    "\n",
    "                val_loss += loss_data / len(data)\n",
    "                \n",
    "                lbl_pred = score.argmax(dim=1)\n",
    "                lbl_true = target\n",
    "                train_acc += (lbl_pred == lbl_true).sum()\n",
    "                running_cnt += data.size(-1) * data.size(-2)\n",
    "\n",
    "#                 lbl_pred = score.data.max(1)[1].cpu().numpy()[:, :, :]\n",
    "#                 lbl_true = target.data.cpu()\n",
    "\n",
    "#                 for lt, lp in zip(lbl_true, lbl_pred):\n",
    "#                     img, lt = self.val_loader.dataset.untransform(img, lt)\n",
    "#                     label_trues.append(lt)\n",
    "#                     label_preds.append(lp)\n",
    "\n",
    "#             metrics = torchfcn.utils.label_accuracy_score(label_trues, label_preds, n_class)\n",
    "            val_loss /= len(self.val_loader)\n",
    "            print('val', val_loss)"
   ]
  },
  {
   "cell_type": "code",
   "execution_count": 50,
   "id": "62d01a92-d27c-44fa-90b6-b7723d4684e1",
   "metadata": {},
   "outputs": [],
   "source": [
    "trainer = Trainer()"
   ]
  },
  {
   "cell_type": "code",
   "execution_count": 51,
   "id": "8241f89e-99ba-4b64-a09a-fd61995a3753",
   "metadata": {},
   "outputs": [
    {
     "name": "stderr",
     "output_type": "stream",
     "text": [
      "  0%|          | 0/8498 [00:00<?, ?it/s]/opt/ml/anaconda3/envs/pytorch/lib/python3.9/site-packages/torch/nn/functional.py:3609: UserWarning: Default upsampling behavior when mode=bilinear is changed to align_corners=False since 0.4.0. Please specify align_corners=True if the old behavior is desired. See the documentation of nn.Upsample for details.\n",
      "  warnings.warn(\n",
      "  0%|          | 39/8498 [01:03<3:49:39,  1.63s/it]\n"
     ]
    },
    {
     "ename": "KeyboardInterrupt",
     "evalue": "",
     "output_type": "error",
     "traceback": [
      "\u001b[0;31m---------------------------------------------------------------------------\u001b[0m",
      "\u001b[0;31mKeyboardInterrupt\u001b[0m                         Traceback (most recent call last)",
      "\u001b[0;32m<ipython-input-51-efa74e1a3645>\u001b[0m in \u001b[0;36m<module>\u001b[0;34m\u001b[0m\n\u001b[0;32m----> 1\u001b[0;31m \u001b[0mtrainer\u001b[0m\u001b[0;34m.\u001b[0m\u001b[0mtrain\u001b[0m\u001b[0;34m(\u001b[0m\u001b[0mnet\u001b[0m\u001b[0;34m,\u001b[0m \u001b[0moptimizer\u001b[0m\u001b[0;34m,\u001b[0m \u001b[0mcriterion\u001b[0m\u001b[0;34m,\u001b[0m \u001b[0mtrainloader\u001b[0m\u001b[0;34m,\u001b[0m \u001b[0mtestloader\u001b[0m\u001b[0;34m,\u001b[0m \u001b[0;36m11\u001b[0m\u001b[0;34m)\u001b[0m\u001b[0;34m\u001b[0m\u001b[0;34m\u001b[0m\u001b[0m\n\u001b[0m",
      "\u001b[0;32m<ipython-input-49-75c2c33b002c>\u001b[0m in \u001b[0;36mtrain\u001b[0;34m(self, model, optimizer, criterion, train_loader, val_loader, max_epoch)\u001b[0m\n\u001b[1;32m     34\u001b[0m                 \u001b[0mtrain_loss\u001b[0m \u001b[0;34m+=\u001b[0m \u001b[0mloss_data\u001b[0m\u001b[0;34m/\u001b[0m \u001b[0mlen\u001b[0m\u001b[0;34m(\u001b[0m\u001b[0mdata\u001b[0m\u001b[0;34m)\u001b[0m\u001b[0;34m\u001b[0m\u001b[0;34m\u001b[0m\u001b[0m\n\u001b[1;32m     35\u001b[0m \u001b[0;34m\u001b[0m\u001b[0m\n\u001b[0;32m---> 36\u001b[0;31m                 \u001b[0mloss\u001b[0m\u001b[0;34m.\u001b[0m\u001b[0mbackward\u001b[0m\u001b[0;34m(\u001b[0m\u001b[0;34m)\u001b[0m\u001b[0;34m\u001b[0m\u001b[0;34m\u001b[0m\u001b[0m\n\u001b[0m\u001b[1;32m     37\u001b[0m                 \u001b[0moptimizer\u001b[0m\u001b[0;34m.\u001b[0m\u001b[0mstep\u001b[0m\u001b[0;34m(\u001b[0m\u001b[0;34m)\u001b[0m\u001b[0;34m\u001b[0m\u001b[0;34m\u001b[0m\u001b[0m\n\u001b[1;32m     38\u001b[0m \u001b[0;34m\u001b[0m\u001b[0m\n",
      "\u001b[0;32m~/anaconda3/envs/pytorch/lib/python3.9/site-packages/torch/_tensor.py\u001b[0m in \u001b[0;36mbackward\u001b[0;34m(self, gradient, retain_graph, create_graph, inputs)\u001b[0m\n\u001b[1;32m    253\u001b[0m                 \u001b[0mcreate_graph\u001b[0m\u001b[0;34m=\u001b[0m\u001b[0mcreate_graph\u001b[0m\u001b[0;34m,\u001b[0m\u001b[0;34m\u001b[0m\u001b[0;34m\u001b[0m\u001b[0m\n\u001b[1;32m    254\u001b[0m                 inputs=inputs)\n\u001b[0;32m--> 255\u001b[0;31m         \u001b[0mtorch\u001b[0m\u001b[0;34m.\u001b[0m\u001b[0mautograd\u001b[0m\u001b[0;34m.\u001b[0m\u001b[0mbackward\u001b[0m\u001b[0;34m(\u001b[0m\u001b[0mself\u001b[0m\u001b[0;34m,\u001b[0m \u001b[0mgradient\u001b[0m\u001b[0;34m,\u001b[0m \u001b[0mretain_graph\u001b[0m\u001b[0;34m,\u001b[0m \u001b[0mcreate_graph\u001b[0m\u001b[0;34m,\u001b[0m \u001b[0minputs\u001b[0m\u001b[0;34m=\u001b[0m\u001b[0minputs\u001b[0m\u001b[0;34m)\u001b[0m\u001b[0;34m\u001b[0m\u001b[0;34m\u001b[0m\u001b[0m\n\u001b[0m\u001b[1;32m    256\u001b[0m \u001b[0;34m\u001b[0m\u001b[0m\n\u001b[1;32m    257\u001b[0m     \u001b[0;32mdef\u001b[0m \u001b[0mregister_hook\u001b[0m\u001b[0;34m(\u001b[0m\u001b[0mself\u001b[0m\u001b[0;34m,\u001b[0m \u001b[0mhook\u001b[0m\u001b[0;34m)\u001b[0m\u001b[0;34m:\u001b[0m\u001b[0;34m\u001b[0m\u001b[0;34m\u001b[0m\u001b[0m\n",
      "\u001b[0;32m~/anaconda3/envs/pytorch/lib/python3.9/site-packages/torch/autograd/__init__.py\u001b[0m in \u001b[0;36mbackward\u001b[0;34m(tensors, grad_tensors, retain_graph, create_graph, grad_variables, inputs)\u001b[0m\n\u001b[1;32m    145\u001b[0m         \u001b[0mretain_graph\u001b[0m \u001b[0;34m=\u001b[0m \u001b[0mcreate_graph\u001b[0m\u001b[0;34m\u001b[0m\u001b[0;34m\u001b[0m\u001b[0m\n\u001b[1;32m    146\u001b[0m \u001b[0;34m\u001b[0m\u001b[0m\n\u001b[0;32m--> 147\u001b[0;31m     Variable._execution_engine.run_backward(\n\u001b[0m\u001b[1;32m    148\u001b[0m         \u001b[0mtensors\u001b[0m\u001b[0;34m,\u001b[0m \u001b[0mgrad_tensors_\u001b[0m\u001b[0;34m,\u001b[0m \u001b[0mretain_graph\u001b[0m\u001b[0;34m,\u001b[0m \u001b[0mcreate_graph\u001b[0m\u001b[0;34m,\u001b[0m \u001b[0minputs\u001b[0m\u001b[0;34m,\u001b[0m\u001b[0;34m\u001b[0m\u001b[0;34m\u001b[0m\u001b[0m\n\u001b[1;32m    149\u001b[0m         allow_unreachable=True, accumulate_grad=True)  # allow_unreachable flag\n",
      "\u001b[0;31mKeyboardInterrupt\u001b[0m: "
     ]
    }
   ],
   "source": [
    "trainer.train(net, optimizer, criterion, trainloader, testloader, 11)"
   ]
  },
  {
   "cell_type": "code",
   "execution_count": null,
   "id": "0478d5e4-0f31-4e26-bf55-f7294679d124",
   "metadata": {},
   "outputs": [],
   "source": []
  }
 ],
 "metadata": {
  "kernelspec": {
   "display_name": "pytorch",
   "language": "python",
   "name": "pytorch"
  },
  "language_info": {
   "codemirror_mode": {
    "name": "ipython",
    "version": 3
   },
   "file_extension": ".py",
   "mimetype": "text/x-python",
   "name": "python",
   "nbconvert_exporter": "python",
   "pygments_lexer": "ipython3",
   "version": "3.9.6"
  }
 },
 "nbformat": 4,
 "nbformat_minor": 5
}
